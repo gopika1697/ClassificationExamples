{
 "cells": [
  {
   "cell_type": "code",
   "execution_count": 7,
   "metadata": {},
   "outputs": [],
   "source": [
    "import pandas as pd\n",
    "import numpy as np\n",
    "from sklearn.preprocessing import StandardScaler\n",
    "from matplotlib import pyplot as plt\n",
    "from sklearn.decomposition import PCA\n",
    "import seaborn as sns\n",
    "from sklearn.metrics import accuracy_score,cohen_kappa_score, f1_score\n",
    "import time\n",
    "from sklearn.tree import DecisionTreeClassifier"
   ]
  },
  {
   "cell_type": "code",
   "execution_count": 2,
   "metadata": {},
   "outputs": [],
   "source": [
    "# loading the raw data\n",
    "bc=pd.read_csv(\"data.csv\")\n",
    "bc.head()  \n",
    "P=bc.iloc[:,2:32]\n",
    "\n"
   ]
  },
  {
   "cell_type": "code",
   "execution_count": 3,
   "metadata": {},
   "outputs": [
    {
     "data": {
      "text/plain": [
       "0    1\n",
       "1    1\n",
       "2    1\n",
       "3    1\n",
       "4    1\n",
       "Name: M, dtype: uint8"
      ]
     },
     "execution_count": 3,
     "metadata": {},
     "output_type": "execute_result"
    }
   ],
   "source": [
    "yd=pd.get_dummies(bc.diagnosis)\n",
    "y=yd.M\n",
    "y.head()\n"
   ]
  },
  {
   "cell_type": "code",
   "execution_count": 4,
   "metadata": {},
   "outputs": [
    {
     "name": "stdout",
     "output_type": "stream",
     "text": [
      "(569, 11)\n",
      "[0.42661046 0.15932139 0.10294428 0.07788731 0.06489774 0.05015242\n",
      " 0.02145044 0.0187846  0.01505759 0.01197751 0.01117206]\n",
      "0.960255820189289\n"
     ]
    }
   ],
   "source": [
    "# standardizing and PCA\n",
    "scaler = StandardScaler()\n",
    "P_scaled=scaler.fit_transform(P)\n",
    "P_scaled=pd.DataFrame(P_scaled)\n",
    "PP=P_scaled.drop(P_scaled.columns[[2, 3, 22, 23, 12, 13]], axis=1) \n",
    "pca=PCA(n_components=0.95)\n",
    "P_pca=pca.fit_transform(PP)\n",
    "print (P_pca.shape)\n",
    "print(pca.explained_variance_ratio_) \n",
    "print (pca.explained_variance_ratio_.sum())\n"
   ]
  },
  {
   "cell_type": "code",
   "execution_count": 5,
   "metadata": {},
   "outputs": [],
   "source": [
    "n=['PC1','PC2','PC3','PC4','PC5','PC6','PC7','PC8','PC9','PC10','PC11','diagnosis']\n",
    "d=bc.iloc[:,1:2]  # diagnosis column\n",
    "#merging the reduced data with diagnosis column\n",
    "Xy=pd.DataFrame(np.hstack([P_pca,d.values]),columns=n)"
   ]
  },
  {
   "cell_type": "code",
   "execution_count": 6,
   "metadata": {},
   "outputs": [],
   "source": [
    "from sklearn.model_selection import train_test_split\n",
    "#predictor X\n",
    "X=(Xy.iloc[:,0:11]).values\n",
    "X_train, X_test, y_train, y_test = train_test_split(X, y, test_size=0.25, random_state=0)"
   ]
  },
  {
   "cell_type": "code",
   "execution_count": 32,
   "metadata": {},
   "outputs": [],
   "source": [
    "dtc=DecisionTreeClassifier(random_state=1)\n",
    "t0=time.time()\n",
    "dtc.fit(X_train,y_train)\n",
    "train= round(time.time()-t0,3)\n",
    "t1=time.time()\n",
    "y_pred_class=dtc.predict(X_test)\n",
    "pred= round(time.time()-t1,3)\n",
    "sk_pred=y_pred_class"
   ]
  },
  {
   "cell_type": "code",
   "execution_count": 12,
   "metadata": {},
   "outputs": [
    {
     "name": "stdout",
     "output_type": "stream",
     "text": [
      "Naive Bayes:\n",
      "confusion matrix\n",
      " [[82  8]\n",
      " [ 8 45]] \n",
      "\n",
      "\n",
      "Confusion matrix plot of Naive Bayes\n"
     ]
    },
    {
     "data": {
      "image/png": "[encoded data removed]",
      "text/plain": [
       "<Figure size 288x288 with 2 Axes>"
      ]
     },
     "metadata": {
      "needs_background": "light"
     },
     "output_type": "display_data"
    },
    {
     "name": "stdout",
     "output_type": "stream",
     "text": [
      "\n",
      " Classification report \n",
      "               precision    recall  f1-score   support\n",
      "\n",
      "           0       0.91      0.91      0.91        90\n",
      "           1       0.85      0.85      0.85        53\n",
      "\n",
      "   micro avg       0.89      0.89      0.89       143\n",
      "   macro avg       0.88      0.88      0.88       143\n",
      "weighted avg       0.89      0.89      0.89       143\n",
      "\n"
     ]
    }
   ],
   "source": [
    "from sklearn.metrics import classification_report\n",
    "from sklearn.metrics import confusion_matrix\n",
    "\n",
    "c_m = confusion_matrix(y_test, sk_pred)\n",
    "print('Naive Bayes:\\nconfusion matrix\\n', c_m,'\\n\\n')\n",
    "ax=plt.matshow(c_m,cmap=plt.cm.Reds)\n",
    "print('Confusion matrix plot of Naive Bayes')\n",
    "plt.colorbar(ax)\n",
    "plt.xlabel('Predicted')\n",
    "plt.ylabel('Actual')\n",
    "plt.show()\n",
    "# classification report\n",
    "print('\\n Classification report \\n',classification_report(y_test, sk_pred))"
   ]
  },
  {
   "cell_type": "code",
   "execution_count": 13,
   "metadata": {},
   "outputs": [],
   "source": [
    "#import metrics for evaluation\n",
    "\n",
    "from sklearn.metrics import accuracy_score,cohen_kappa_score, f1_score, recall_score, precision_score\n",
    "\n",
    "#use builtin functions or use confustion matrix\n",
    "\n",
    "#[row, column] from confustion matrix\n",
    "# TP - True positive, TN - True Negative, FP - False Positive, FN - False Negative\n",
    "\n",
    "TP = c_m[1, 1]\n",
    "TN = c_m[0, 0]\n",
    "FP = c_m[0, 1]\n",
    "FN = c_m[1, 0]"
   ]
  },
  {
   "cell_type": "code",
   "execution_count": 14,
   "metadata": {},
   "outputs": [
    {
     "data": {
      "text/plain": [
       "0.760167714884696"
      ]
     },
     "execution_count": 14,
     "metadata": {},
     "output_type": "execute_result"
    }
   ],
   "source": [
    "cohen_kappa_score(y_test, sk_pred, labels=None, weights=None, sample_weight=None)"
   ]
  },
  {
   "cell_type": "code",
   "execution_count": 15,
   "metadata": {},
   "outputs": [],
   "source": [
    "prediction=sk_pred"
   ]
  },
  {
   "cell_type": "code",
   "execution_count": 16,
   "metadata": {},
   "outputs": [
    {
     "data": {
      "text/plain": [
       "0.8490566037735849"
      ]
     },
     "execution_count": 16,
     "metadata": {},
     "output_type": "execute_result"
    }
   ],
   "source": [
    "f1_score(y_test, prediction)"
   ]
  },
  {
   "cell_type": "code",
   "execution_count": 17,
   "metadata": {},
   "outputs": [
    {
     "name": "stdout",
     "output_type": "stream",
     "text": [
      "0.8881118881118881\n",
      "0.8881118881118881\n"
     ]
    }
   ],
   "source": [
    "#accuracy score - 2 ways (1- using metrics functions or 2-using confusion matrix)\n",
    "\n",
    "print((TP + TN) / float(TP + TN + FP + FN))\n",
    "print(accuracy_score(y_test, prediction))"
   ]
  },
  {
   "cell_type": "code",
   "execution_count": 18,
   "metadata": {},
   "outputs": [
    {
     "name": "stdout",
     "output_type": "stream",
     "text": [
      "0.11188811188811189\n",
      "0.11188811188811187\n"
     ]
    }
   ],
   "source": [
    "#classification error - 2 ways\n",
    "\n",
    "classification_error = (FP + FN) / float(TP + TN + FP + FN)\n",
    "\n",
    "print(classification_error)\n",
    "print(1 - accuracy_score(y_test, prediction))"
   ]
  },
  {
   "cell_type": "code",
   "execution_count": 19,
   "metadata": {},
   "outputs": [
    {
     "name": "stdout",
     "output_type": "stream",
     "text": [
      "0.8490566037735849\n",
      "0.8490566037735849\n"
     ]
    }
   ],
   "source": [
    "#sensitivity - 2 ways\n",
    "\n",
    "sensitivity = TP / float(FN + TP)\n",
    "\n",
    "print(sensitivity)\n",
    "print(recall_score(y_test, prediction))"
   ]
  },
  {
   "cell_type": "code",
   "execution_count": 20,
   "metadata": {},
   "outputs": [
    {
     "name": "stdout",
     "output_type": "stream",
     "text": [
      "0.9111111111111111\n"
     ]
    }
   ],
   "source": [
    "#specificity\n",
    "\n",
    "specificity = TN / (TN + FP)\n",
    "print(specificity)"
   ]
  },
  {
   "cell_type": "code",
   "execution_count": 21,
   "metadata": {},
   "outputs": [
    {
     "name": "stdout",
     "output_type": "stream",
     "text": [
      "0.8490566037735849\n",
      "0.8490566037735849\n"
     ]
    }
   ],
   "source": [
    "#precision\n",
    "\n",
    "precision = TP / float(TP + FP)\n",
    "\n",
    "print(precision)\n",
    "print(precision_score(y_test, prediction))"
   ]
  },
  {
   "cell_type": "code",
   "execution_count": 24,
   "metadata": {},
   "outputs": [
    {
     "name": "stdout",
     "output_type": "stream",
     "text": [
      "0.08888888888888889\n",
      "0.0888888888888889\n"
     ]
    }
   ],
   "source": [
    "#false positive rate\n",
    "\n",
    "false_positive_rate = FP / float(TN + FP)\n",
    "\n",
    "print(false_positive_rate)\n",
    "print(1 - specificity)"
   ]
  },
  {
   "cell_type": "code",
   "execution_count": 23,
   "metadata": {},
   "outputs": [],
   "source": [
    "#decision tree\n",
    "from sklearn.tree import DecisionTreeClassifier\n",
    "dtc=DecisionTreeClassifier(random_state=1)\n",
    "dtc.fit(X_train,y_train)\n",
    "\n",
    "prediction=dtc.predict(X_test)"
   ]
  },
  {
   "cell_type": "code",
   "execution_count": 33,
   "metadata": {},
   "outputs": [
    {
     "name": "stdout",
     "output_type": "stream",
     "text": [
      "0.007 0.001\n"
     ]
    }
   ],
   "source": [
    "print(train, pred)"
   ]
  },
  {
   "cell_type": "code",
   "execution_count": null,
   "metadata": {},
   "outputs": [],
   "source": []
  }
 ],
 "metadata": {
  "kernelspec": {
   "display_name": "Python 3",
   "language": "python",
   "name": "python3"
  },
  "language_info": {
   "codemirror_mode": {
    "name": "ipython",
    "version": 3
   },
   "file_extension": ".py",
   "mimetype": "text/x-python",
   "name": "python",
   "nbconvert_exporter": "python",
   "pygments_lexer": "ipython3",
   "version": "3.7.1"
  }
 },
 "nbformat": 4,
 "nbformat_minor": 2
}
